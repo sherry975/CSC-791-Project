_#build model

def evaluation(X_train, Y_train, X_test, Y_test_true, i):
  from sklearn.linear_model import LogisticRegression
  Y_test_sys = []
  Y_test_proba = []
  model = LogisticRegression(solver='liblinear').fit(X_train, np.ravel(Y_train))
  for k in X_test:
      Y_test_sys.append(model.predict([k]))
      Y_test_proba.append(model.predict_proba([k]))
  results = zip(Y_test_sys, Y_test_proba)
 
  if i == 1:
    result_path = "results/baseline_result.csv"
    write_results(result_path, results)
  from sklearn.metrics import f1_score
  from sklearn.metrics import confusion_matrix
  from sklearn.metrics import precision_score
  from sklearn.metrics import classification_report
  from sklearn.metrics import accuracy_score
  #f1 score
  print('testing performance feature set ', i)
  print('f1 score = ', f1_score(Y_test_true, Y_test_sys, average='weighted'))

  #accuracy score

  score = accuracy_score(Y_test_true, Y_test_sys)
  print("accuracy score = ", score)

  #precision score
  print("precision score = ", precision_score(Y_test_true, Y_test_sys, average='weighted'))

  #confusion matrix
  print("confusion matrix = ")
  print(confusion_matrix(Y_test_true, Y_test_sys))

  print('report : ')
  print(classification_report(Y_test_true, Y_test_sys))
